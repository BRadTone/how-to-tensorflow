{
 "cells": [
  {
   "cell_type": "code",
   "execution_count": null,
   "metadata": {},
   "outputs": [],
   "source": [
    "%matplotlib notebook\n",
    "\n",
    "import numpy as np\n",
    "import tensorflow as tf\n",
    "import os\n",
    "os.environ['TF_CPP_MIN_LOG_LEVEL'] = '3' \n",
    "import matplotlib.pyplot as plt\n",
    "from ipywidgets import FloatSlider"
   ]
  },
  {
   "cell_type": "markdown",
   "metadata": {},
   "source": [
    "#### Creating training set and plot results\n"
   ]
  },
  {
   "cell_type": "code",
   "execution_count": null,
   "metadata": {},
   "outputs": [],
   "source": [
    "W_true = [1.7, -5, 3]\n",
    "m = 256\n",
    "noise = np.random.randn(m) * 10\n",
    "X_train = np.linspace(-10, 10, m)  + np.random.randn(m)\n",
    "Y_train = W_true[0]*X_train**2 + W_true[1]*X_train +  W_true[2] + noise"
   ]
  },
  {
   "cell_type": "code",
   "execution_count": null,
   "metadata": {},
   "outputs": [],
   "source": [
    "fig, ax = plt.subplots()\n",
    "ax.grid()\n",
    "scatter = ax.scatter(X_train,Y_train, s=5, c='r')"
   ]
  },
  {
   "cell_type": "markdown",
   "metadata": {},
   "source": [
    "#### Initialize  variables & placeholders"
   ]
  },
  {
   "cell_type": "code",
   "execution_count": null,
   "metadata": {},
   "outputs": [],
   "source": [
    "X = tf.placeholder(dtype=tf.float32, shape=(None, 1), name='X')\n",
    "Y = tf.placeholder(dtype=tf.float32, shape=(None, 1), name='Y')\n",
    "\n",
    "W = tf.Variable(np.random.rand(3,1), name='weights', dtype=tf.float32)\n",
    "predictions = (W[0] * X**2) + (W[1] * X) + W[2]"
   ]
  },
  {
   "cell_type": "code",
   "execution_count": null,
   "metadata": {},
   "outputs": [],
   "source": [
    "sess = tf.InteractiveSession()\n",
    "tf.global_variables_initializer().run()"
   ]
  },
  {
   "cell_type": "code",
   "execution_count": null,
   "metadata": {},
   "outputs": [],
   "source": [
    "cost = tf.losses.mean_squared_error(labels=Y, predictions=predictions)\n",
    "optimizer = tf.train.GradientDescentOptimizer(learning_rate=0.00002).minimize(cost)"
   ]
  },
  {
   "cell_type": "code",
   "execution_count": null,
   "metadata": {},
   "outputs": [],
   "source": [
    "W_adjustments = [W.eval().tolist()]\n",
    "print('Initialized weights: {}'.format(W.eval().reshape(-1)))\n",
    "print('True weights: {}'.format(W_true))"
   ]
  },
  {
   "cell_type": "code",
   "execution_count": null,
   "metadata": {},
   "outputs": [],
   "source": [
    "for i in range(500):\n",
    "    sess.run([cost, optimizer], feed_dict={Y: Y_train.reshape(m, 1), X: X_train.reshape(m,1)})\n",
    "    if i % 2==0:\n",
    "        W_adjustments.append(W.eval())"
   ]
  },
  {
   "cell_type": "code",
   "execution_count": null,
   "metadata": {},
   "outputs": [],
   "source": [
    "def update_plot(change):\n",
    "    _W = W_adjustments[int(slider.value)]\n",
    "    _ys = _W[0]*X_test**2 + _W[1]*X_test + _W[2]\n",
    "    parabola.set_ydata(_ys) \n",
    "\n",
    "    \n",
    "slider = FloatSlider(value=0, min=0, max=len(W_adjustments) -1, step=1, description='iteration per 2')\n",
    "slider.observe(update_plot, 'value')"
   ]
  },
  {
   "cell_type": "code",
   "execution_count": null,
   "metadata": {},
   "outputs": [],
   "source": [
    "fig, ax = plt.subplots()\n",
    "ax.grid()\n",
    "scatter = ax.scatter(X_train,Y_train, s=5, c='r')\n",
    "X_test = np.linspace(-20, 20, 20)\n",
    "W_temp = W_adjustments[0]\n",
    "Y_test = W_temp[0]*X_test**2 + W_temp[1]*X_test + W_temp[2]\n",
    "parabola, = ax.plot(X_test, Y_test)"
   ]
  },
  {
   "cell_type": "code",
   "execution_count": null,
   "metadata": {},
   "outputs": [],
   "source": [
    "slider"
   ]
  },
  {
   "cell_type": "code",
   "execution_count": null,
   "metadata": {},
   "outputs": [],
   "source": [
    "print('Trained weights: {}'.format(W_adjustments[-1].reshape(-1).tolist()))\n",
    "print('True weights: {}'.format(W_true))"
   ]
  }
 ],
 "metadata": {
  "kernelspec": {
   "display_name": "Python 3",
   "language": "python",
   "name": "python3"
  },
  "language_info": {
   "codemirror_mode": {
    "name": "ipython",
    "version": 3
   },
   "file_extension": ".py",
   "mimetype": "text/x-python",
   "name": "python",
   "nbconvert_exporter": "python",
   "pygments_lexer": "ipython3",
   "version": "3.6.4"
  }
 },
 "nbformat": 4,
 "nbformat_minor": 2
}
